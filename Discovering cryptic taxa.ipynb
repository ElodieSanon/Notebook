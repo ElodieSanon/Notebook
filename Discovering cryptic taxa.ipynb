{
  "cells": [
    {
      "cell_type": "markdown",
      "metadata": {
        "id": "LSzSrFqWaU5p"
      },
      "source": [
        "![banner](https://github.com/anopheles-genomic-surveillance/anopheles-genomic-surveillance.github.io/blob/master/docs/banner.jpg?raw=1)\n",
        "\n",
        "***[Workshop 4](about) - Training course in data analysis for genomic surveillance of African malaria vectors***\n",
        "\n",
        "---"
      ]
    },
    {
      "cell_type": "markdown",
      "metadata": {
        "id": "Ikhej0MNagNY"
      },
      "source": [
        "# Module 4 - Discovering cryptic taxa\n",
        "\n",
        "**Theme: Analysis**\n",
        "\n",
        "\n",
        "In this module we're going to detect cryptic taxa in the Ag3.0 data resource using ancestry informative markers (AIMs) and principal component analysis (PCA). We will use functions in the `malariagen_data` python package to run analyses then learn how interpret the results to discover cryptic taxonomic structure."
      ]
    },
    {
      "cell_type": "markdown",
      "metadata": {
        "id": "JT5ZecjkfLSx"
      },
      "source": [
        "## Learning objectives\n",
        "\n",
        "At the end of this module you will:\n",
        "\n",
        "* Understand MalariaGEN's mosquito taxon analysis pipeline and the reasoning behind it.\n",
        "* Be able to run and plot AIM and PCA analyses, and interpret the results.\n",
        "* Be able to detect cryptic taxa."
      ]
    },
    {
      "cell_type": "markdown",
      "metadata": {
        "id": "HVgtrB8gBl4l"
      },
      "source": [
        "## Lecture"
      ]
    },
    {
      "cell_type": "markdown",
      "metadata": {
        "id": "8A9B2Yz4Bl4m"
      },
      "source": [
        "### English"
      ]
    },
    {
      "cell_type": "markdown",
      "metadata": {
        "id": "WvSbl9Hoosr_"
      },
      "source": [
        "## Why do we need to discover cryptic taxa?\n",
        "\n",
        "Generally, we need to discover cryptic taxa in our data sets because they will generate population structure. In [workshop 3](https://anopheles-genomic-surveillance.github.io/workshop-3/about.html) we explored how genetically distinct populations need to be separated, else population analysis results will be confounded.\n",
        "\n",
        "Specifically, we need to identify cryptic taxa for genomic surveillance and vector control. Cryptic taxa may differ from known taxa in medically important phenotypes, e.g., biting times, vector competence or insecticide resistance. Vector control methods that work for some vector taxa may fail to control others.\n"
      ]
    },
    {
      "cell_type": "markdown",
      "metadata": {
        "id": "mEuoZGXGBl4y"
      },
      "source": [
        "## Setup\n",
        "\n",
        "Before we begin the analysis, let's set up the Python packages we'll need to use.\n",
        "\n",
        "First install and import the `malariagen_data` package."
      ]
    },
    {
      "cell_type": "code",
      "execution_count": null,
      "metadata": {
        "id": "zJmvH9DJIpvs"
      },
      "outputs": [],
      "source": [
        "%pip install -q --no-warn-conflicts malariagen_data"
      ]
    },
    {
      "cell_type": "code",
      "execution_count": null,
      "metadata": {
        "id": "qzq5t2oVI7KC"
      },
      "outputs": [],
      "source": [
        "import malariagen_data\n",
        "import os"
      ]
    },
    {
      "cell_type": "markdown",
      "metadata": {
        "id": "sYu01AIQXn4T"
      },
      "source": [
        "Some analyses may take a while to complete, particularly if you’re running this code on a service with modest computational resources such as Google Colab. To avoid having to rerun these analyses, we’ll **save the results** so we can come back to them later. In Google Colab, you can save results to your Google Drive, which will mean you don’t lose results even if you leave the notebook and come back several days later.\n",
        "\n",
        "Mount your Google Drive - you will need to follow the authorization instructions."
      ]
    },
    {
      "cell_type": "code",
      "execution_count": null,
      "metadata": {
        "id": "lyLBkRenYKa4"
      },
      "outputs": [],
      "source": [
        "try:\n",
        "    # if running on colab, mount Google drive\n",
        "    from google.colab import drive\n",
        "    drive.mount('drive')\n",
        "except ImportError:\n",
        "    pass"
      ]
    },
    {
      "cell_type": "markdown",
      "metadata": {
        "id": "mg1ZodEbYg43"
      },
      "source": [
        "With our Google Drive now mounted, we can define and make a directory where we want to save our results."
      ]
    },
    {
      "cell_type": "code",
      "execution_count": null,
      "metadata": {
        "id": "-zDHYoIQYR7p"
      },
      "outputs": [],
      "source": [
        "results_dir = 'drive/MyDrive/Colab Data/module_4_results'\n",
        "os.makedirs(results_dir, exist_ok=True)"
      ]
    },
    {
      "cell_type": "markdown",
      "metadata": {
        "id": "EECDaNHNYu6b"
      },
      "source": [
        "In Google Colab, we can actually see our mounted drive and results directory by clicking on the file tab on the left hand side of the screen.\n",
        "\n",
        "Next we should setup the `malariagen_data` package. As we want to save our reults in the Google Drive folder we just set up, we'll use the `results_cache` parameter and assign our results directory to it. If we were running this notebook locally, then we could assign a local folder to this parameter and the results would instead get stored on our hard drive."
      ]
    },
    {
      "cell_type": "code",
      "execution_count": null,
      "metadata": {
        "id": "wqIBWRZCCbj6"
      },
      "outputs": [],
      "source": [
        "ag3 = ag3 = malariagen_data.Ag3(pre=True, results_cache=results_dir)\n",
        "ag3"
      ]
    },
    {
      "cell_type": "markdown",
      "metadata": {
        "id": "I6GXphODNbax"
      },
      "source": [
        "Remember to check `Client location` in the output above - our cloud data is stored in the US, so want our Google Colab virtual machine (VM) to be based in the US too. If your client location is somewhere else in the world, select `Runtime` then `Disconnect and delete runtime` from the toolbar at the top of notebook, then rerun the notebook from the top. This will ensure our analyses run as fast as possible.  "
      ]
    },
    {
      "cell_type": "markdown",
      "metadata": {
        "id": "g58MgK6XkFZD"
      },
      "source": [
        "## Step 1 - Ancestry informative marker (AIM) analysis\n",
        "\n",
        "Before we investigate what taxa are present in our dataset in detail, we first make provisional species calls. We could do this using the single marker molecular typing results that contributors often supply when sending samples, generated by assays such as [Scott *et al.* (1993)](https://pubmed.ncbi.nlm.nih.gov/8214283/) and [Santolamazza *et al.* (2008)](https://malariajournal.biomedcentral.com/articles/10.1186/1475-2875-7-163). However, as we have discussed in the [previous module](https://anopheles-genomic-surveillance.github.io/workshop-4/module-3-aims.html), these single markers are a blunt tool - the marker may indicate one species, while the rest of the genome indicates a different species entirely.  \n",
        "  \n",
        "Rather than a single marker, we use multiple ancestry-informative SNP markers (AIMs) taken from across the genome. These are derived by taking a population of each species and looking for the biallelic SNPs that have different alleles fixed (or almost fixed) in the different species. Depending on how diverged the mosquito species are, this method gives us hundreds or thousands of ancestry informative marker SNPs across the genome.\n",
        "\n",
        "With these AIMs, we can use the percentage of AIM alleles in an individual to assign provisional species. E.g., currently we assign any sample with 85% or more *An. arabiensis* AIM alleles as *An. arabiensis*. These AIM fractions can be found in the sample metadata in the \"aim_species_fraction_arab\" and \"aim_species_fraction_colu\" columns. The provisional species calls made from these AIM data can be found in the sample metadata \"aim_species\" column.\n",
        "\n",
        "Let's remind ourselves of what the sample metadata looks like."
      ]
    },
    {
      "cell_type": "code",
      "execution_count": null,
      "metadata": {
        "id": "_riBoUKdC8-T"
      },
      "outputs": [],
      "source": [
        "sample_sets = ag3.sample_metadata(sample_query = \"country == 'Burkina Faso'\").sample_set.unique()"
      ]
    },
    {
      "cell_type": "code",
      "execution_count": null,
      "metadata": {
        "id": "T5uwiUazC_mo"
      },
      "outputs": [],
      "source": [
        "sample_sets_list = sample_sets.tolist()"
      ]
    },
    {
      "cell_type": "code",
      "execution_count": null,
      "metadata": {
        "id": "T_Ix8gRZkfw3"
      },
      "outputs": [],
      "source": [
        "sample_meta_df = ag3.sample_metadata()\n",
        "sample_meta_df.head()"
      ]
    },
    {
      "cell_type": "markdown",
      "metadata": {
        "id": "lL7eKRP6Bl44"
      },
      "source": [
        "There are several columns in the metadata which provide data on AIMs. Let's take a look."
      ]
    },
    {
      "cell_type": "code",
      "execution_count": null,
      "metadata": {
        "id": "HCHxihgEBl44"
      },
      "outputs": [],
      "source": [
        "aim_columns = [c for c in sample_meta_df if c.startswith(\"aim_\")]\n",
        "aim_columns"
      ]
    },
    {
      "cell_type": "code",
      "execution_count": null,
      "metadata": {
        "id": "EuWEa0lGBl45"
      },
      "outputs": [],
      "source": [
        "sample_meta_df[[\"sample_id\"] + aim_columns].head()"
      ]
    },
    {
      "cell_type": "markdown",
      "metadata": {
        "id": "f08Li8GmkgCP"
      },
      "source": [
        "Note the \"aim_species\" column - this has the value of our provisional species call made from looking at AIM genotype calls. Let's see all the values this can take:"
      ]
    },
    {
      "cell_type": "code",
      "execution_count": null,
      "metadata": {
        "id": "2JoesxqUBl46"
      },
      "outputs": [],
      "source": [
        "sample_meta_df.groupby(\"aim_species\").size()"
      ]
    },
    {
      "cell_type": "markdown",
      "metadata": {
        "id": "BiJ4r412Bl46"
      },
      "source": [
        "In the [previous module](module-3-aims) we looked at how we can visualise the AIMs underlying this provisional species call with an AIM plot, using the handy `ag3.plot_aim_heatmap()` function in the `malariagen_data` python package. Let's remind ourselves of how this function works, and what the AIMs looks like."
      ]
    },
    {
      "cell_type": "code",
      "execution_count": null,
      "metadata": {
        "id": "gOFgLj5dOLam"
      },
      "outputs": [],
      "source": [
        "ag3.plot_aim_heatmap?"
      ]
    },
    {
      "cell_type": "markdown",
      "metadata": {
        "id": "owtHuQiMUV_O"
      },
      "source": [
        "To visualise the AIM calls as a heatmap we just need to specify which set of markers we want to use (`aims`), either \"gambcolu_vs_arab\" or \"gamb_vs_colu\". There's also a `sample_set` parameter and a `sample_query` parameter to select which samples to look at.\n",
        "\n",
        "Let's look again at the \"gamb_vs_colu\" AIMs from the \"AG1000G-BF-A\" sample set of mosquitoes from Burkina Faso."
      ]
    },
    {
      "cell_type": "code",
      "execution_count": null,
      "metadata": {
        "id": "U5xyVJFCUVhb"
      },
      "outputs": [],
      "source": [
        "ag3.plot_aim_heatmap(\n",
        "    aims=\"gamb_vs_colu\",\n",
        "    sample_sets=sample_sets_list\n",
        ")"
      ]
    },
    {
      "cell_type": "markdown",
      "metadata": {
        "id": "n7pyLaOEaj75"
      },
      "source": [
        "In the plot above, the subplots represent different contigs (chromosome arms) and the rows are individual samples. These plots are interactive and hovering the mouse pointer brings up data about the AIM variant index (column), mosquito sample ID (row), and AIM genotype (here 0 means homozygous gamb/gamb, 1 means heterozygous gamb/colu and 2 means homozygous colu/colu).  \n",
        "\n",
        "In the \"gamb_vs_colu\" plot, blue represents homozygous *An. gambiae* genotypes, red represents homozygous *An. coluzzii* genotypes, and in yellow we see genotypes that are heterozygous for the *gambiae* and *coluzzii* alleles.\n",
        "\n",
        "Despite the fact that many samples are affected by the known introgression event on chromosome arm 2L, in most cases we still make fairly clear provisional species assignments using the AIMs. In fact, because this introgression is so common, we actually ignore chromosome arm 2L when making provisional species calls between *gambiae* and *coluzzii*. Here are the provisional assignments for this sample set:"
      ]
    },
    {
      "cell_type": "code",
      "execution_count": null,
      "metadata": {
        "id": "pk3UPFuMDyGG"
      },
      "outputs": [],
      "source": [
        "# Convert the list to a string representation suitable for the query\n",
        "sample_sets_string = \", \".join(f\"'{s}'\" for s in sample_sets_list)\n",
        "\n",
        "# Use the string in the query, leveraging the 'in' operator\n",
        "sample_meta_df.query(\"sample_set in (@sample_sets_string)\").groupby(\"aim_species\").size()"
      ]
    },
    {
      "cell_type": "markdown",
      "metadata": {
        "id": "_nLngqNnBl48"
      },
      "source": [
        "Let's look at another AIM plot, this time using the \"gambcolu_vs_arab\" AIMs to look at mosquitoes from Uganda."
      ]
    },
    {
      "cell_type": "code",
      "execution_count": null,
      "metadata": {
        "id": "0EYjoKqPakb6"
      },
      "outputs": [],
      "source": [
        "ag3.plot_aim_heatmap(\n",
        "    aims=\"gambcolu_vs_arab\",\n",
        "    sample_sets=sample_sets_list\n",
        ")"
      ]
    },
    {
      "cell_type": "markdown",
      "metadata": {
        "id": "-K8FloWMZqbb"
      },
      "source": [
        "In the \"gambcolu_vs_arab\" plot, green represents genotypes which are homozygous for the *An. arabiensis* allele; purple represents genotypes homozygous for the allele found in *An. gambiae* and *An. coluzzii*, and in yellow we again see genotypes that are heterozygous.\n",
        "\n",
        "Though the AIMs are not 100% informative due to how they have been obtained (see module 3), we can see lots of samples where most of the AIMs are homozygous for one species. This what we expected, as these samples should belong to one of these known taxa.\n",
        "\n",
        "Sometimes, however, we see samples where the species is not clear. We can see a sample like this (ACO198-C) in the Uganda plot above. This sample has heterozygous genotypes at almost all AIMs, and so gets assigned as \"intermediate_gambcolu_arabiensis\" in the samples metadata \"aim_species\" column.\n"
      ]
    },
    {
      "cell_type": "code",
      "execution_count": null,
      "metadata": {
        "id": "yjp8P8PkEnoX"
      },
      "outputs": [],
      "source": [
        "ag3.sample_sets()[['sample_set','sample_count','study_id']]"
      ]
    },
    {
      "cell_type": "code",
      "execution_count": null,
      "metadata": {
        "id": "ksH8_0vwlmG9"
      },
      "outputs": [],
      "source": [
        "sample_meta_df.query(\"sample_id == @sample_sets_list\")[[\"sample_id\"] + aim_columns]"
      ]
    },
    {
      "cell_type": "markdown",
      "metadata": {
        "id": "cfUF_b3JBl4_"
      },
      "source": [
        "Here are counts of the different AIM species assignments in Uganda:"
      ]
    },
    {
      "cell_type": "code",
      "execution_count": null,
      "metadata": {
        "id": "IpcEUSihBl4_"
      },
      "outputs": [],
      "source": [
        "sample_meta_df.query(\"sample_set in @sample_sets_list\").groupby(\"aim_species\").size()"
      ]
    },
    {
      "cell_type": "markdown",
      "metadata": {
        "id": "hVTje3C1lmfs"
      },
      "source": [
        "There are other sample sets where there are multiple samples that do not have a clear species assignment, e.g., Guinea-Bissau."
      ]
    },
    {
      "cell_type": "code",
      "execution_count": null,
      "metadata": {
        "id": "gNjVXJ_dmah9"
      },
      "outputs": [],
      "source": [
        "ag3.plot_aim_heatmap(\n",
        "    aims=\"gamb_vs_colu\",\n",
        "    sample_sets=sample_sets_list\n",
        ")"
      ]
    },
    {
      "cell_type": "markdown",
      "metadata": {
        "id": "OH8etkCRBl5M"
      },
      "source": [
        "In sample sets like this, there may be many \"intermediate\" AIM species assignments:"
      ]
    },
    {
      "cell_type": "code",
      "execution_count": null,
      "metadata": {
        "id": "1DrhfWH7mw-Y"
      },
      "outputs": [],
      "source": [
        "sample_meta_df.query(\"sample_set in @sample_sets_list\").groupby(\"aim_species\").size()"
      ]
    },
    {
      "cell_type": "markdown",
      "metadata": {
        "id": "7QhL4rRdmawc"
      },
      "source": [
        "\n",
        "**Sample sets with many samples assigned a \"intermediate\" provisional species are flagged for further investigation with principal component analysis (PCA).**"
      ]
    },
    {
      "cell_type": "markdown",
      "metadata": {
        "id": "2RtKoqwSib0C"
      },
      "source": [
        "## Step 2 - Principal component analysis"
      ]
    },
    {
      "cell_type": "markdown",
      "metadata": {
        "id": "7xRnfNzVir9T"
      },
      "source": [
        "### Recap: what is principal component analysis?\n",
        "  \n",
        "In the previous [workshop](../workshop-3/about) we learnt how PCA can be used to identify genetic structure in a group of samples and we learnt why being able to detect structure is useful for genomic surveillance and vector control.\n",
        "\n",
        "Fundamentally, PCA is a method for reducing the dimensions of a dataset to help make interpreting the data easier. The PCA finds axes through the data that describe its variance, in the case of genomic data, this effectively collapses thousands or millions of dimensions (SNPs) down to a handful of **principal components** which allow tractable investigation of structure in the data.\n",
        "\n",
        "When we are trying to identify the causes of the apparent \"intermediate\" taxon samples from AIMs analysis, the way PCA reveals the structure of these samples can be be very helpful."
      ]
    },
    {
      "cell_type": "markdown",
      "metadata": {
        "id": "K1Y8_WyhwsU6"
      },
      "source": [
        "### Signals of hybridisation - Uganda\n",
        "\n",
        "In the Ugandan \"gambcolu_vs_arab\" aim plot we saw an individual that appeared to be heterozygous for AIMs across it's genome. Let's run a PCA on this sample set and see how this individual appears.\n",
        "\n",
        "Let's briefly remind ourselves of the pca function documentation."
      ]
    },
    {
      "cell_type": "code",
      "execution_count": null,
      "metadata": {
        "id": "D75mzNhvgMq5"
      },
      "outputs": [],
      "source": [
        "ag3.pca?"
      ]
    },
    {
      "cell_type": "markdown",
      "metadata": {
        "id": "blVPme4SBl5O"
      },
      "source": [
        "Let's define some parameters to use in all the PCA computations."
      ]
    },
    {
      "cell_type": "code",
      "execution_count": null,
      "metadata": {
        "id": "am2UwjGaOM8A"
      },
      "outputs": [],
      "source": [
        "region = \"3L:15,000,000-41,000,000\"\n",
        "n_snps = 100_000"
      ]
    },
    {
      "cell_type": "markdown",
      "metadata": {
        "id": "PLEpsCJGBl5P"
      },
      "source": [
        "Now run a PCA with Ugandan samples."
      ]
    },
    {
      "cell_type": "code",
      "execution_count": null,
      "metadata": {
        "id": "d0pPkVTPOdlJ"
      },
      "outputs": [],
      "source": [
        "pca_df, evr = ag3.pca(\n",
        "    region=region,\n",
        "    n_snps=n_snps,\n",
        "    sample_sets=sample_sets_list\n",
        ")"
      ]
    },
    {
      "cell_type": "markdown",
      "metadata": {
        "id": "-EO4HjzDz3qG"
      },
      "source": [
        "We can look at the __explained variance ratio__ array (`evr`) to get an feeling for how many principal components we are interested in for this particular PCA. This array contains the proportion of the total variance in the dataset explained by each principal component. The easiest way to do this is to plot the array using the malariagen_data function `plot_pca_variance()`."
      ]
    },
    {
      "cell_type": "code",
      "execution_count": null,
      "metadata": {
        "id": "5nSnEvmD0Y--"
      },
      "outputs": [],
      "source": [
        "ag3.plot_pca_variance?"
      ]
    },
    {
      "cell_type": "code",
      "execution_count": null,
      "metadata": {
        "id": "JBINNwyBz4BN"
      },
      "outputs": [],
      "source": [
        "ag3.plot_pca_variance(evr)"
      ]
    },
    {
      "cell_type": "markdown",
      "metadata": {
        "id": "UIuFPMoO0qRo"
      },
      "source": [
        "Where the variance plot flattens out is a good rule of thumb as to where principal components may be more noise than signal of structure. In this case it looks like PC1 explains much of the variance in the data relative to all other PCs."
      ]
    },
    {
      "cell_type": "markdown",
      "metadata": {
        "id": "HtHrHXHRRdEx"
      },
      "source": [
        "Now we can plot the PCA data using the malariagen_data package."
      ]
    },
    {
      "cell_type": "code",
      "execution_count": null,
      "metadata": {
        "id": "btT5zcAZRcM6"
      },
      "outputs": [],
      "source": [
        "ag3.plot_pca_coords?"
      ]
    },
    {
      "cell_type": "markdown",
      "metadata": {
        "id": "GTHJua0QSDvX"
      },
      "source": [
        "So we just need to plug in our `pca_df` Pandas DataFrame, however, we can also colour our points using the \"gambcolu_vs_arab\" AIM derived provisional taxon data to help us interpret the plot."
      ]
    },
    {
      "cell_type": "code",
      "execution_count": null,
      "metadata": {
        "id": "_ejKSqYIOpd-"
      },
      "outputs": [],
      "source": [
        "ag3.plot_pca_coords(pca_df, color=\"aim_species\")"
      ]
    },
    {
      "cell_type": "markdown",
      "metadata": {
        "id": "YGNw6s1oZ9Tf"
      },
      "source": [
        "With the points coloured by our AIM analysis, we see that principal component 1 (PC1), which describes the most variation in our data, has detected structure driven by species. The separate *An. gambiae* and *An. arabiensis* clusters demonstrate a strong degree of __reproductive isolation__ between the species in Uganda.\n",
        "\n",
        "\n",
        "Equidistant from the two species clusters, we can see a single sample - AC0198-C. The AIM analysis defined this individual as being \"intermediate_gambcolu_arabiensis\" because it did not carry enough of either *An. arabiensis* or *An. gambiae/coluzzi* to be classified as such. The position of this sample, on the same axis of variation (PC1) as our two clusters of species suggests that this individual is a *An. gambiae* X *An. arabiensis* hybrid. Furthermore, that the sample falls at the approximate mid-point between the two main clusters, suggests that this individual is an F1 (first filial generation) hybrid. A multi-generational backcrossed individual (>F1), would fall on the same axis but appear closer to one AIM species cluster or the other, depending on which species had been backcrossed into.\n",
        "\n",
        "**In the sample metadata, the \"taxon\" column contains the results of these PCA-based cryptic species analyses.**\n",
        "\n",
        "In this case (AG1000G-UG), we don't need to alter our provisional AIM species assignments, and so the \"taxon\" column will be identical to \"aim_species\"."
      ]
    },
    {
      "cell_type": "code",
      "execution_count": null,
      "metadata": {
        "id": "BepEiks9SfEw"
      },
      "outputs": [],
      "source": [
        "sample_meta_df.query(\"sample_set == @sample_sets_list\").groupby([\"aim_species\", \"taxon\"]).size()"
      ]
    },
    {
      "cell_type": "markdown",
      "metadata": {
        "id": "jI7Nax8Rh9YH"
      },
      "source": [
        "### Signals of cryptic species - Tanzania\n",
        "\n",
        "Let's look at a difference situation, where think there is evidence for a cryptic species that we weren't previously aware of.\n",
        "\n",
        "Let's plot the \"gamb_vs_colu\" (*An. gambiae vs An. coluzzii*) AIMs for the Tanzanian sample set, excluding samples assigned as *An. arabiensis*."
      ]
    },
    {
      "cell_type": "code",
      "execution_count": null,
      "metadata": {
        "id": "_9PQ8qax2HLy"
      },
      "outputs": [],
      "source": [
        "ag3.plot_aim_heatmap(\n",
        "    aims=\"gamb_vs_colu\",\n",
        "    sample_sets=sample_sets_list,\n",
        "    sample_query=\"aim_species != 'arabiensis'\"\n",
        ")"
      ]
    },
    {
      "cell_type": "markdown",
      "metadata": {
        "id": "KEhSm1-l2Hbw"
      },
      "source": [
        "We can see that a number of samples show mixed ancestry (blue, red and yellow genotypes) over the 2 and 3 chromosomes, but appear homozygous for *An. gambiae* ancestry on the X chromosome.\n",
        "\n",
        "In the AIM analysis, these samples were provisionally labelled as being \"intermediate_gambiae_coluzzii\" in the \"aim_species\" column of the sample metadata.\n",
        "\n",
        "This result is particularly interesting, as the *An. coluzzii* species range does not reach this far East. Let's investigate this sample set using PCA."
      ]
    },
    {
      "cell_type": "code",
      "execution_count": null,
      "metadata": {
        "id": "Xv4gjNzpxxxh"
      },
      "outputs": [],
      "source": [
        "pca_df, evr = ag3.pca(\n",
        "    region=region,\n",
        "    n_snps=n_snps,\n",
        "    sample_sets=sample_sets_list,\n",
        ")"
      ]
    },
    {
      "cell_type": "markdown",
      "metadata": {
        "id": "Fwo9MzZDBzJX"
      },
      "source": [
        "We should plot the variance array to get an idea which principal components we should look at."
      ]
    },
    {
      "cell_type": "code",
      "execution_count": null,
      "metadata": {
        "id": "mr66Kpe5CEH7"
      },
      "outputs": [],
      "source": [
        "ag3.plot_pca_variance(evr)"
      ]
    },
    {
      "cell_type": "markdown",
      "metadata": {
        "id": "KBJO3gHNCKqR"
      },
      "source": [
        "For these samples, the explained variance doesn't flatten out until PC4, which suggests that we should look at the first three PCs. We could make multiple 2D scatter plots to investigate these three PCs *e.g.* PC1 *vs.* PC2 and PC2 *vs.* PC3. But it would be easier to intepret the results if we could make one 3D scatter plot and visualise all three PCs together. There is a function in `malariagen_data` that makes this very simple."
      ]
    },
    {
      "cell_type": "code",
      "execution_count": null,
      "metadata": {
        "id": "T0ZB2h45CJ_t"
      },
      "outputs": [],
      "source": [
        "ag3.plot_pca_coords_3d?"
      ]
    },
    {
      "cell_type": "markdown",
      "metadata": {
        "id": "z40t8idHIFwY"
      },
      "source": [
        "The parameters are very similar to the 2D PCA plotting function, except here we have another axis parameter \"z\" that we can assign another principal component to. Let's colour the points by `aim_species` as we did before."
      ]
    },
    {
      "cell_type": "code",
      "execution_count": null,
      "metadata": {
        "id": "uC9TrLaMx3c4"
      },
      "outputs": [],
      "source": [
        "ag3.plot_pca_coords_3d(pca_df, x=\"PC1\", y=\"PC2\", z=\"PC3\", color=\"aim_species\")"
      ]
    },
    {
      "cell_type": "markdown",
      "metadata": {
        "id": "vOwNCyDCKsIU"
      },
      "source": [
        "Under the hood, `malariagen_data` is building these plots with Plotly, so they are interactive. The plot can be rotated by clicking on the plot and moving the mouse and scrolling allows zooming in and out. Holding the mouse pointer over a point will reveal metadata about that sample. Let's try to interpret this plot one PC at a time."
      ]
    },
    {
      "cell_type": "markdown",
      "metadata": {
        "id": "EmZE_zrgLU3Z"
      },
      "source": [
        "#### PC1\n",
        "\n",
        "The first principal component has separated all the \"arabiensis from all other \"aim_species\". This is what we might expect when we sample two species, due to reproductive isolation."
      ]
    },
    {
      "cell_type": "markdown",
      "metadata": {
        "id": "NK-npea1NvL6"
      },
      "source": [
        "#### PC2\n",
        "\n",
        "The second principal component has pulled all of the \"intermediate_gambiae_coluzzii\" samples as well as some \"gambiae\" samples away from all other samples. This is striking, the cluster that includes the intermediate samples is separated on its own axis of variation."
      ]
    },
    {
      "cell_type": "markdown",
      "metadata": {
        "id": "HmgKyoX2NvRl"
      },
      "source": [
        "#### PC3\n",
        "\n",
        "The third principal component splits two clusters of \"gambiae\" samples. If we look at the metadata attached to samples in these two clusters, we can see that in one cluster, samples were collected in Muleba and in the other, the samples were collected in Muheza. This looks like a classic case of geographic isolation between the _An. gambiae_ populations from these two sites."
      ]
    },
    {
      "cell_type": "markdown",
      "metadata": {
        "id": "aYWs1GAiy_zG"
      },
      "source": [
        "#### Interpretation\n",
        "  \n",
        "There is clearly a lot to unpack when it comes to the population structure we find in this sample set. The strongest signal of variance (PC1) is being driven by reproductive isolation between _An. arabiensis_ and other species.\n",
        "\n",
        "What is interesting here is that all the \"arabiensis\" samples are gathered together in a single cluster, but there are two clusters of \"gambiae\" (separated by PC3). Let's have a look at some ecological information about the collection sites in Tanzania (the code for this figure can be found [here](https://github.com/malariagen/vector-data/blob/update-ag3-api-docs-alimanfoo-2022-09-25/docs/ag3/examples/collection-sites.ipynb).\n",
        "\n",
        "<img src=\"https://storage.googleapis.com/vo_agam_release/reference/training-images/workshop-4/collection-sites-tz.png\"/>"
      ]
    },
    {
      "cell_type": "markdown",
      "metadata": {
        "id": "xLXoh8z71yV0"
      },
      "source": [
        "Our \"gambiae\" samples come from Muheza and Muleba, in the East and West of the country respectively. We might conclude that our two clusters of \"gambiae\" in our PCA are being driven simply by the geographic distance separating the sample sites. However, \"arabiensis\" have also been collected from sites on either side of the country, and yet all these \"arabiensis\" samples cluster together.\n",
        "\n",
        "There is a body of research showing _An. arabiensis_ has a higher aridity tolerance than _An. gambiae_ (_e.g._ [Gray & Bradley (2005)](https://www.researchgate.net/profile/Emilie-Gray-2/publication/7592284_Physiology_of_desiccation_resistance_in_Anopheles_gambiae_and_Anopheles_arabiensis/links/02e7e52658455346ab000000/Physiology-of-desiccation-resistance-in-Anopheles-gambiae-and-Anopheles-arabiensis.pdf)).\n",
        "  \n",
        "One explanation of our results, consistent with these other findings, is that as Muheza and Muleba are separated by a brown (more arid) region that runs approximately North to South, splitting the country in two. The two \"gambiae\" populations are thus separated by a barrier of unsuitable environment, enabling the evolution of structure (two clusters in our PCA). As _An. arabiensis_ can tolerate the dryer region, geneflow can occur across the country resulting in less within-species structure (one cluster in our PCA)."
      ]
    },
    {
      "cell_type": "markdown",
      "metadata": {
        "id": "uoieBFIk9bUI"
      },
      "source": [
        "But what about the other cluster on our PCA, containing intermediate samples separated from other clusters by PC2. From studies of species distributions we know that there are no *An. coluzzii* in Tanzania and these samples do not look like hybrids between *An. gambiae* and *An. arabiensis* as they are not in between the species clusters pulled apart by PC1 (like our hybrid sample in Uganda).\n",
        "  \n",
        "Perhaps these samples are cryptic species, if they are species we don't have AIMs for they could be labelled as intermediate in the AIM analysis. However, if this cluster represents a cryptic species, why are there four samples labelled as \"gambiae\" also present in the cluster?\n",
        "\n",
        "- BL0357-C\n",
        "- BL0366-C\n",
        "- BL0370-C\n",
        "- BL0384-C\n",
        "\n",
        "To dig down into this further, we could make the same PCA plot as before, but this time colour the points by \"aim_fraction_colu\", which as it suggests, is the fraction of AIMs from the \"gamb_vs_colu\" analysis, that suggest _An. coluzzii_ ancestry."
      ]
    },
    {
      "cell_type": "markdown",
      "metadata": {
        "id": "bhhOKGhuUtSE"
      },
      "source": [
        "#### Colour by AIM fraction"
      ]
    },
    {
      "cell_type": "code",
      "execution_count": null,
      "metadata": {
        "id": "VsPT1d8tIdgI"
      },
      "outputs": [],
      "source": [
        "ag3.plot_pca_coords_3d(\n",
        "    pca_df,\n",
        "    x=\"PC1\",\n",
        "    y=\"PC2\",\n",
        "    z=\"PC3\",\n",
        "    color=\"aim_species_fraction_colu\"\n",
        ")"
      ]
    },
    {
      "cell_type": "markdown",
      "metadata": {
        "id": "5SAgjLc2LidG"
      },
      "source": [
        "When we colour the points by fraction _coluzzii_ ancestry we can see that the \"gambiae\" samples which cluster with the \"intermediate_gambiae_coluzzii\" actually have **relatively high** \"coluzzii\" ancestry (lighter purple) compared with the other \"gambiae\" (darker purple) in Tanzania. This means that although they had been provisionally labelled as \"gambiae\" they were at the lower end of the AIM % cut-off.\n",
        "\n",
        "As mentioned earlier, the AIMs are not 100% informative, and the species cut-offs we use are somewhat arbitrary. This is why we just use the AIM analyses to give provisonal species calls, and then follow up with PCA to give us a more nuanced picture of both structure and taxa."
      ]
    },
    {
      "cell_type": "markdown",
      "metadata": {
        "id": "sn9DR8UTEq94"
      },
      "source": [
        "### Labelling cryptic taxa"
      ]
    },
    {
      "cell_type": "markdown",
      "metadata": {
        "id": "ZbpUm2jle33r"
      },
      "source": [
        "With the evidence we have collected on this \"intermediate_gambiae_coluzzii\" cluster of samples in Tanzania, we would re-label these samples as members of a cryptic taxa. In the sample metadata, the taxon column for these samples has consequently been changed to \"**gcx3**\". This stands for \"_gambiae_ complex cryptic taxa 3\", as it is actually the third cryptic taxon we have identified in the Ag3.0 samples.\n",
        "  \n",
        "We can see this re-labelling if we run the same PCA but colour our samples by \"taxon\"."
      ]
    },
    {
      "cell_type": "code",
      "execution_count": null,
      "metadata": {
        "id": "2z1goww6ElLK"
      },
      "outputs": [],
      "source": [
        "ag3.plot_pca_coords_3d(pca_df, x=\"PC1\", y=\"PC2\", z=\"PC3\", color=\"taxon\")"
      ]
    },
    {
      "cell_type": "markdown",
      "metadata": {
        "id": "V7DshMJdBl5f"
      },
      "source": [
        "We can also see how some of the AIM species assignments are converted into a cryptic taxon assignment. I.e., there are some samples labelled as either \"gambiae\" or \"intermediate_gambiae_coluzzii\" in the aim_species column, which get assigned as \"gcx3\" in the taxon column."
      ]
    },
    {
      "cell_type": "code",
      "execution_count": null,
      "metadata": {
        "id": "K0iaFC_mBl5f"
      },
      "outputs": [],
      "source": [
        "sample_meta_df.query(\"sample_set == @sample_sets_list\").groupby([\"aim_species\", \"taxon\"]).size()"
      ]
    },
    {
      "cell_type": "markdown",
      "metadata": {
        "id": "mLJesG8_pcsl"
      },
      "source": [
        "## The importance of identifying cryptic taxa\n",
        "\n",
        "Our principal component analysis has highlighted population structure that appears to be due to a previously-unknown cryptic species in Tanzania. Can we use our genomic data to identify operationally important differences with this taxa?\n",
        "\n",
        "If we remember [module 4 of the first workshop](https://anopheles-genomic-surveillance.github.io/workshop-1/module-4-vgsc-snps.html), we used the `malariagen_data` package to plot gene SNP allele frequencies by cohorts, as a heatmap. Let's do that for the *Vgsc* gene (target of pyrethroid insecticides) in our Tanzanian \"gambiae\" and \"gcx3\" cohorts."
      ]
    },
    {
      "cell_type": "code",
      "execution_count": null,
      "metadata": {
        "id": "6KGo6x5Dq7dS"
      },
      "outputs": [],
      "source": [
        "ag3.aa_allele_frequencies?"
      ]
    },
    {
      "cell_type": "code",
      "execution_count": null,
      "metadata": {
        "id": "vrpz-1_Ypzld"
      },
      "outputs": [],
      "source": [
        "aa_allele_freqs_df = ag3.aa_allele_frequencies(\n",
        "    transcript=\"AGAP004707-RD\",\n",
        "    cohorts=\"admin1_year\",\n",
        "    sample_sets=sample_sets_list,\n",
        "    sample_query=\"taxon != 'arabiensis'\",\n",
        ")"
      ]
    },
    {
      "cell_type": "code",
      "source": [
        "aa_allele_freqs_df"
      ],
      "metadata": {
        "id": "y0Oo8csP26HF"
      },
      "execution_count": null,
      "outputs": []
    },
    {
      "cell_type": "code",
      "execution_count": null,
      "metadata": {
        "id": "gPWSouC3qbBo"
      },
      "outputs": [],
      "source": [
        "aa_filt_df = aa_allele_freqs_df.query(\"max_af > 0.05\")"
      ]
    },
    {
      "cell_type": "code",
      "execution_count": null,
      "metadata": {
        "id": "VYNNQu9jqbH2"
      },
      "outputs": [],
      "source": [
        "ag3.plot_frequencies_heatmap(aa_filt_df)"
      ]
    },
    {
      "cell_type": "markdown",
      "metadata": {
        "id": "9BOtHLwKtbTn"
      },
      "source": [
        "The heatmap shows that the *gcx3* cohort of samples (\"TZ-25-gcx3-2013\") does not carry any pyrethoid target-site resistance alleles, whereas the \"gambiae\" cohort from the same collection year and region (\"TZ-25-gamb-2013\") has a 41% allele frequency of the _kdr_ (knock-down resistance) allele L995S.\n",
        "\n",
        "This may mean the *gcx3* mosquitoes have very different insecticide resistance profiles to the *gambiae* mosquitoes from the same location. Consequently, it is important to consider them separately for further investigations into the best vector control strategies."
      ]
    },
    {
      "cell_type": "markdown",
      "metadata": {
        "id": "QMcJ7NdRLirt"
      },
      "source": [
        "## Taxon analysis workflow - recap\n",
        "\n",
        "### 1. AIMs analysis\n",
        "- First compute **AIMs** and use these to make **provisional species calls**.\n",
        "- Look for sample sets where there's evidence of **\"intermediate\" samples**.\n",
        "  \n",
        "\n",
        "### 2. PCA analysis\n",
        "- **Run PCAs** for each suspect sample set. Adding sample sets from nearby countries with clean species calls can help as a comparison.\n",
        "- Look for distinct clusters on PCA plots containing the \"intermediate\" samples.\n",
        "\n",
        "### 3. Interpret\n",
        "- Do these intermediate samples fall between clusters of known species?\n",
        "  - If yes, they could be **hybrids** of the two known species.\n",
        "- Is there a **PCA dimension** which pulls the cluster out uniquely?\n",
        "  - If yes, they could belong to a **cryptic taxon**\n",
        "\n"
      ]
    },
    {
      "cell_type": "markdown",
      "metadata": {
        "id": "Gq6H-qv7Lizv"
      },
      "source": [
        "## Well done!\n",
        "\n",
        "* In this module we have followed MalariaGEN's mosquito taxon analysis pipeline and the reasoning behind it.\n",
        "* Run and plotted both AIM and PCA analyses, and learnt how to interpret the results.\n",
        "* Learnt how to detect cryptic taxa."
      ]
    },
    {
      "cell_type": "markdown",
      "metadata": {
        "id": "3k2UwEMzNpTh"
      },
      "source": [
        "## Exercises\n",
        "\n",
        "### English\n",
        "\n",
        "Open this notebook in Google Colab and run it for yourself from top to bottom. As you run through the notebook, cell by cell, think about what each cell is doing.\n",
        "\n",
        "Hint: To open the notebook in Google Colab, click the rocket icon at the top of the page, then select “Colab” from the drop-down menu.\n",
        "\n",
        "Next, run a taxon analysis workflow for Guinea Bissau - \"AG1000G-GW\".\n",
        "\n",
        "  - Plot the \"gamb_vs_colu\" AIMs for Guinea Bissau.\n",
        "    - How might we interpret this plot?\n",
        "  - Run and plot a PCA for Guinea Bissau.\n",
        "    - How many PCs should we investigate?\n",
        "    - How might we interpret the PCA plot? Hint: try colouring markers by \"aim_species_fraction_colu\"\n",
        "  - Add Burkina Faso A sample set to the PCA analysis - [\"AG1000G-GW, \"AG1000G-BF-A\"].\n",
        "    - Does this help clarify the situation, if so why?\n",
        "    - Could we have a hybrid cluster or a cryptic taxon cluster?\n",
        "    - Explain why you think that.\n",
        "\n",
        "### Français\n",
        "\n",
        "Ouvrez ce notebook dans Google Colab et exécutez-le vous-même du début à la fin. Pendant que vous exécutez le notebook, cellule par cellule, considérez ce que chaque cellule fait.\n",
        "\n",
        "Indice: Ouvrir ce notebook dans Google Colab, cliquez sur l’icône “fusée” au sommet de la page et sélectionner “Colab” dans le menu.\n",
        "\n",
        "Ensuite, exécuter l’analyse des taxons pour la Guinée-Bissau – \"AG1000G-GW\".\n",
        "\n",
        "* Afficher le diagramme des AIMs \"gamb_vs_colu\" pour Guinea-Bissau\n",
        "  * Comment interpreter ce diagramme?\n",
        "* Exécuter et afficher la PCA pour la Guinée\n",
        "  * Combien de PCs doivent être étudiés?\n",
        "  * Comment interpréter le diagramme de la PCA? Indice: essayer de colorer les marqueurs en fonction de \"aim_species_fraction_colu\".\n",
        "* Ajouter l’ensemble de données Burkina Faso A à l’analyse PCA – [\"AG1000G-GW\", \"AG1000G-BF-A\"].\n",
        "  * Est-ce que cela aide à rendre la situation plus claire? Si oui, pourquoi?\n",
        "  * Est-ce vous observez un groupe d’hybrides ou un groupe d’un taxon cryptique?\n",
        "  * Pourquoi pensez-vous cela?"
      ]
    }
  ],
  "metadata": {
    "celltoolbar": "Tags",
    "colab": {
      "provenance": []
    },
    "kernelspec": {
      "display_name": "developer-developer-training-nb-maintenance-mgen-8.7.0",
      "language": "python",
      "name": "conda-env-developer-developer-training-nb-maintenance-mgen-8.7.0-py"
    },
    "language_info": {
      "codemirror_mode": {
        "name": "ipython",
        "version": 3
      },
      "file_extension": ".py",
      "mimetype": "text/x-python",
      "name": "python",
      "nbconvert_exporter": "python",
      "pygments_lexer": "ipython3",
      "version": "3.10.11"
    }
  },
  "nbformat": 4,
  "nbformat_minor": 0
}